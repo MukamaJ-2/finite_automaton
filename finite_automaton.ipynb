{
 "cells": [
  {
   "cell_type": "markdown",
   "metadata": {},
   "source": [
    " Write a regular expression that can detect dates in the DD/MM/YYYY format. Assume that the days range\n",
    " from 01 to 31, the months range from 01 to 12, and the years range from 1000 to 2999. Note that if the day\n",
    " or month is a single digit, it’ll have a leading zero.\n",
    " The regular expression doesn’t have to detect correct days for each month or for leap years; it will accept\n",
    " nonexistent dates like 31/02/2020 or 31/04/2021. Then store these strings into variables named \n",
    "month\n",
    " , \n",
    "day\n",
    " , and\n",
    " year\n",
    " , and write additional code that can detect if it is a valid date. April, June, September, and November\n",
    " have 30 days, February has 28 days, and the rest of the months have 31 days. February has 29 days in leap\n",
    " years. Leap years are every year evenly divisible by 4, except for years evenly divisible by 100, unless the year\n",
    " is also evenly divisible by 400. Note how this calculation makes it impossible to make a reasonably sized\n",
    " regular expression that can detect a valid date."
   ]
  },
  {
   "cell_type": "code",
   "execution_count": null,
   "metadata": {},
   "outputs": [],
   "source": [
    "import re\n",
    "\n",
    "# Regular expression for DD/MM/YYYY\n",
    "date_regex = re.compile(r\"^(0[1-9]|[12][0-9]|3[01])/(0[1-9]|1[0-2])/([12][0-9]{3})$\")\n",
    "\n",
    "def is_leap_year(year):\n",
    "    \"\"\"Check if a year is a leap year.\"\"\"\n",
    "    return year % 4 == 0 and (year % 100 != 0 or year % 400 == 0)\n",
    "\n",
    "def validate_date(date_string):\n",
    "    \"\"\"Validate the date string.\"\"\"\n",
    "    match = date_regex.match(date_string)\n",
    "    if not match:\n",
    "        return False\n",
    "    \n",
    "    day, month, year = map(int, match.groups())\n",
    "    \n",
    "    # Days in each month\n",
    "    days_in_month = {\n",
    "        1: 31, 2: 28, 3: 31, 4: 30, \n",
    "        5: 31, 6: 30, 7: 31, 8: 31,\n",
    "        9: 30, 10: 31, 11: 30, 12: 31\n",
    "    }\n",
    "    \n",
    "    # Adjust for leap years\n",
    "    if month == 2 and is_leap_year(year):\n",
    "        days_in_month[2] = 29\n",
    "    \n",
    "    return day <= days_in_month.get(month, 0)\n",
    "\n",
    "# Example usage\n",
    "print(validate_date(\"29/02/2024\")) # True (leap year)\n",
    "print(validate_date(\"31/04/2025\")) # False (April has only 30 days)\n"
   ]
  },
  {
   "cell_type": "markdown",
   "metadata": {},
   "source": [
    " Write a function that uses regular expressions to make sure the password string it is passed is strong. A strong\n",
    " password is defined as one that is at least eight characters long, contains both uppercase and lowercase\n",
    " characters, and has at least one digit. You may need to test the string against multiple regex patterns to\n",
    " validate its strength."
   ]
  },
  {
   "cell_type": "code",
   "execution_count": null,
   "metadata": {},
   "outputs": [],
   "source": [
    "import re\n",
    "\n",
    "def is_strong_password(password):\n",
    "    \"\"\"Check if a password is strong.\"\"\"\n",
    "    if len(password) < 8:\n",
    "        return False\n",
    "    has_uppercase = bool(re.search(r\"[A-Z]\", password))\n",
    "    has_lowercase = bool(re.search(r\"[a-z]\", password))\n",
    "    has_digit = bool(re.search(r\"\\d\", password))\n",
    "    \n",
    "    return has_uppercase and has_lowercase and has_digit\n",
    "\n",
    "# Example usage\n",
    "print(is_strong_password(\"Password123\")) # True\n",
    "print(is_strong_password(\"weakpass\"))    # False\n"
   ]
  },
  {
   "cell_type": "markdown",
   "metadata": {},
   "source": [
    "Write a function that takes a string and does the same thing as the \n",
    "strip()\n",
    " string method. If no other\n",
    " arguments are passed other than the string to strip, then whitespace characters will be removed from the\n",
    " beginning and end of the string. Otherwise, the characters specified in the second argument to the function\n",
    " will be removed from the string."
   ]
  },
  {
   "cell_type": "code",
   "execution_count": null,
   "metadata": {},
   "outputs": [],
   "source": [
    "import re\n",
    "\n",
    "def regex_strip(text, chars=None):\n",
    "    \"\"\"Strip characters from the beginning and end of a string.\"\"\"\n",
    "    if chars is None:\n",
    "        # Remove whitespace by default\n",
    "        pattern = r\"^\\s+|\\s+$\"\n",
    "    else:\n",
    "        # Remove specified characters\n",
    "        escaped_chars = re.escape(chars)\n",
    "        pattern = rf\"^[{escaped_chars}]+|[{escaped_chars}]+$\"\n",
    "    \n",
    "    return re.sub(pattern, \"\", text)\n",
    "\n",
    "# Example usage\n",
    "print(regex_strip(\"   Hello World!   \"))       # \"Hello World!\"\n",
    "print(regex_strip(\"...Hello World!...\", \".\")) # \"Hello World!\"\n"
   ]
  }
 ],
 "metadata": {
  "language_info": {
   "name": "python"
  }
 },
 "nbformat": 4,
 "nbformat_minor": 2
}
